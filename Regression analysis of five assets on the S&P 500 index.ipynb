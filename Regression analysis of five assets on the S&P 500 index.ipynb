{
 "cells": [
  {
   "cell_type": "markdown",
   "metadata": {},
   "source": [
    "# 1. Introduction"
   ]
  },
  {
   "cell_type": "markdown",
   "metadata": {},
   "source": [
    "## - The five assets \n"
   ]
  },
  {
   "cell_type": "markdown",
   "metadata": {},
   "source": [
    "### BTC-USD (Currency Pair) - Bitcoin / US Dollar\n",
    "This is a currency pair for BTC (base) and USD (quote). "
   ]
  },
  {
   "cell_type": "markdown",
   "metadata": {},
   "source": [
    "### GLD (ETF) - SPDR Gold Shares\n",
    "This is an exchange-traded fund that tracks the price of gold. It is part of the family of ETFs managed by the company State Street Global Advisors.\n"
   ]
  },
  {
   "cell_type": "markdown",
   "metadata": {},
   "source": [
    "### SVXY (ETF) - ProShares Short VIX Short-Term Futures\n",
    "This is an exchange-traded fund provided by ProShares that provides inverse exposure to the VIX Short-Term Futures Index by taking the first two months of VIX future positions and creating a weighted average maturity of one month."
   ]
  },
  {
   "cell_type": "markdown",
   "metadata": {},
   "source": [
    "### ^FTSE (Index) - The Financial Times Stock Exchange 100 Index\n",
    "This share index tracks the top 100 companies listed on the London Stock Exchange by market capitalization. "
   ]
  },
  {
   "cell_type": "markdown",
   "metadata": {},
   "source": [
    "### MGGPX (Mutual Fund) - Morgan Stanley Institutional Fund, Inc. Global Opportunity Portfolio Class A\n",
    "This is a Class A mutual fund managed by the company Morgan Stanley. \n"
   ]
  },
  {
   "cell_type": "markdown",
   "metadata": {},
   "source": [
    "# 2. Obtain Data"
   ]
  },
  {
   "cell_type": "code",
   "execution_count": 1,
   "metadata": {},
   "outputs": [],
   "source": [
    "from pandas_datareader import data as pdr\n",
    "import pandas_datareader.data as web\n",
    "import numpy as np\n",
    "import matplotlib.pyplot as plt\n",
    "from plotly import tools\n",
    "import plotly.plotly as py\n",
    "import plotly.graph_objs as go\n",
    "import datetime as dt\n",
    "import pandas as pd\n",
    "import fix_yahoo_finance as yf\n",
    "tools.set_credentials_file(username='xian.c', api_key='MpqkLzGQuwzGO92tjEbK')\n",
    "yf.pdr_override() "
   ]
  },
  {
   "cell_type": "code",
   "execution_count": 2,
   "metadata": {},
   "outputs": [],
   "source": [
    "start=dt.datetime(2017,1,1)\n",
    "end=dt.datetime(2017,12,31)"
   ]
  },
  {
   "cell_type": "code",
   "execution_count": 3,
   "metadata": {
    "scrolled": true
   },
   "outputs": [
    {
     "name": "stdout",
     "output_type": "stream",
     "text": [
      "[*********************100%***********************]  6 of 6 downloaded\n"
     ]
    }
   ],
   "source": [
    "df1 = pdr.get_data_yahoo(['^GSPC','GLD','BTC-USD', 'SVXY','^FTSE','MGGPX'], start, end)"
   ]
  },
  {
   "cell_type": "code",
   "execution_count": 4,
   "metadata": {
    "scrolled": true
   },
   "outputs": [
    {
     "data": {
      "text/html": [
       "<div>\n",
       "<style>\n",
       "    .dataframe thead tr:only-child th {\n",
       "        text-align: right;\n",
       "    }\n",
       "\n",
       "    .dataframe thead th {\n",
       "        text-align: left;\n",
       "    }\n",
       "\n",
       "    .dataframe tbody tr th {\n",
       "        vertical-align: top;\n",
       "    }\n",
       "</style>\n",
       "<table border=\"1\" class=\"dataframe\">\n",
       "  <thead>\n",
       "    <tr>\n",
       "      <th></th>\n",
       "      <th colspan=\"6\" halign=\"left\">Open</th>\n",
       "      <th colspan=\"4\" halign=\"left\">High</th>\n",
       "      <th>...</th>\n",
       "      <th colspan=\"4\" halign=\"left\">Adj Close</th>\n",
       "      <th colspan=\"6\" halign=\"left\">Volume</th>\n",
       "    </tr>\n",
       "    <tr>\n",
       "      <th></th>\n",
       "      <th>BTC-USD</th>\n",
       "      <th>GLD</th>\n",
       "      <th>MGGPX</th>\n",
       "      <th>SVXY</th>\n",
       "      <th>^FTSE</th>\n",
       "      <th>^GSPC</th>\n",
       "      <th>BTC-USD</th>\n",
       "      <th>GLD</th>\n",
       "      <th>MGGPX</th>\n",
       "      <th>SVXY</th>\n",
       "      <th>...</th>\n",
       "      <th>MGGPX</th>\n",
       "      <th>SVXY</th>\n",
       "      <th>^FTSE</th>\n",
       "      <th>^GSPC</th>\n",
       "      <th>BTC-USD</th>\n",
       "      <th>GLD</th>\n",
       "      <th>MGGPX</th>\n",
       "      <th>SVXY</th>\n",
       "      <th>^FTSE</th>\n",
       "      <th>^GSPC</th>\n",
       "    </tr>\n",
       "    <tr>\n",
       "      <th>Date</th>\n",
       "      <th></th>\n",
       "      <th></th>\n",
       "      <th></th>\n",
       "      <th></th>\n",
       "      <th></th>\n",
       "      <th></th>\n",
       "      <th></th>\n",
       "      <th></th>\n",
       "      <th></th>\n",
       "      <th></th>\n",
       "      <th></th>\n",
       "      <th></th>\n",
       "      <th></th>\n",
       "      <th></th>\n",
       "      <th></th>\n",
       "      <th></th>\n",
       "      <th></th>\n",
       "      <th></th>\n",
       "      <th></th>\n",
       "      <th></th>\n",
       "      <th></th>\n",
       "    </tr>\n",
       "  </thead>\n",
       "  <tbody>\n",
       "    <tr>\n",
       "      <th>2017-01-01</th>\n",
       "      <td>963.380005</td>\n",
       "      <td>NaN</td>\n",
       "      <td>NaN</td>\n",
       "      <td>NaN</td>\n",
       "      <td>NaN</td>\n",
       "      <td>NaN</td>\n",
       "      <td>1001.609985</td>\n",
       "      <td>NaN</td>\n",
       "      <td>NaN</td>\n",
       "      <td>NaN</td>\n",
       "      <td>...</td>\n",
       "      <td>NaN</td>\n",
       "      <td>NaN</td>\n",
       "      <td>NaN</td>\n",
       "      <td>NaN</td>\n",
       "      <td>40570922</td>\n",
       "      <td>NaN</td>\n",
       "      <td>NaN</td>\n",
       "      <td>NaN</td>\n",
       "      <td>NaN</td>\n",
       "      <td>NaN</td>\n",
       "    </tr>\n",
       "    <tr>\n",
       "      <th>2017-01-02</th>\n",
       "      <td>995.440002</td>\n",
       "      <td>NaN</td>\n",
       "      <td>NaN</td>\n",
       "      <td>NaN</td>\n",
       "      <td>NaN</td>\n",
       "      <td>NaN</td>\n",
       "      <td>1031.680054</td>\n",
       "      <td>NaN</td>\n",
       "      <td>NaN</td>\n",
       "      <td>NaN</td>\n",
       "      <td>...</td>\n",
       "      <td>NaN</td>\n",
       "      <td>NaN</td>\n",
       "      <td>NaN</td>\n",
       "      <td>NaN</td>\n",
       "      <td>66038073</td>\n",
       "      <td>NaN</td>\n",
       "      <td>NaN</td>\n",
       "      <td>NaN</td>\n",
       "      <td>NaN</td>\n",
       "      <td>NaN</td>\n",
       "    </tr>\n",
       "    <tr>\n",
       "      <th>2017-01-03</th>\n",
       "      <td>1017.049988</td>\n",
       "      <td>109.620003</td>\n",
       "      <td>15.10</td>\n",
       "      <td>189.419998</td>\n",
       "      <td>7142.799805</td>\n",
       "      <td>2251.570068</td>\n",
       "      <td>1035.469971</td>\n",
       "      <td>111.000000</td>\n",
       "      <td>15.10</td>\n",
       "      <td>195.300003</td>\n",
       "      <td>...</td>\n",
       "      <td>14.936665</td>\n",
       "      <td>194.899994</td>\n",
       "      <td>7177.899902</td>\n",
       "      <td>2257.830078</td>\n",
       "      <td>56085870</td>\n",
       "      <td>7527400.0</td>\n",
       "      <td>0.0</td>\n",
       "      <td>1820700.0</td>\n",
       "      <td>795658400.0</td>\n",
       "      <td>3.770530e+09</td>\n",
       "    </tr>\n",
       "    <tr>\n",
       "      <th>2017-01-04</th>\n",
       "      <td>1033.300049</td>\n",
       "      <td>111.059998</td>\n",
       "      <td>15.21</td>\n",
       "      <td>197.100006</td>\n",
       "      <td>7177.899902</td>\n",
       "      <td>2261.600098</td>\n",
       "      <td>1148.540039</td>\n",
       "      <td>111.220001</td>\n",
       "      <td>15.21</td>\n",
       "      <td>207.059998</td>\n",
       "      <td>...</td>\n",
       "      <td>15.045474</td>\n",
       "      <td>205.059998</td>\n",
       "      <td>7189.700195</td>\n",
       "      <td>2270.750000</td>\n",
       "      <td>170584623</td>\n",
       "      <td>4904100.0</td>\n",
       "      <td>0.0</td>\n",
       "      <td>1406700.0</td>\n",
       "      <td>742050400.0</td>\n",
       "      <td>3.764890e+09</td>\n",
       "    </tr>\n",
       "    <tr>\n",
       "      <th>2017-01-05</th>\n",
       "      <td>1135.410034</td>\n",
       "      <td>112.160004</td>\n",
       "      <td>15.39</td>\n",
       "      <td>203.220001</td>\n",
       "      <td>7189.700195</td>\n",
       "      <td>2268.179932</td>\n",
       "      <td>1150.630005</td>\n",
       "      <td>112.940002</td>\n",
       "      <td>15.39</td>\n",
       "      <td>205.979996</td>\n",
       "      <td>...</td>\n",
       "      <td>15.223528</td>\n",
       "      <td>205.720001</td>\n",
       "      <td>7195.299805</td>\n",
       "      <td>2269.000000</td>\n",
       "      <td>244839289</td>\n",
       "      <td>9606800.0</td>\n",
       "      <td>0.0</td>\n",
       "      <td>1034000.0</td>\n",
       "      <td>768721000.0</td>\n",
       "      <td>3.761820e+09</td>\n",
       "    </tr>\n",
       "  </tbody>\n",
       "</table>\n",
       "<p>5 rows × 36 columns</p>\n",
       "</div>"
      ],
      "text/plain": [
       "                   Open                                              \\\n",
       "                BTC-USD         GLD  MGGPX        SVXY        ^FTSE   \n",
       "Date                                                                  \n",
       "2017-01-01   963.380005         NaN    NaN         NaN          NaN   \n",
       "2017-01-02   995.440002         NaN    NaN         NaN          NaN   \n",
       "2017-01-03  1017.049988  109.620003  15.10  189.419998  7142.799805   \n",
       "2017-01-04  1033.300049  111.059998  15.21  197.100006  7177.899902   \n",
       "2017-01-05  1135.410034  112.160004  15.39  203.220001  7189.700195   \n",
       "\n",
       "                                High                                 \\\n",
       "                  ^GSPC      BTC-USD         GLD  MGGPX        SVXY   \n",
       "Date                                                                  \n",
       "2017-01-01          NaN  1001.609985         NaN    NaN         NaN   \n",
       "2017-01-02          NaN  1031.680054         NaN    NaN         NaN   \n",
       "2017-01-03  2251.570068  1035.469971  111.000000  15.10  195.300003   \n",
       "2017-01-04  2261.600098  1148.540039  111.220001  15.21  207.059998   \n",
       "2017-01-05  2268.179932  1150.630005  112.940002  15.39  205.979996   \n",
       "\n",
       "                ...       Adj Close                                        \\\n",
       "                ...           MGGPX        SVXY        ^FTSE        ^GSPC   \n",
       "Date            ...                                                         \n",
       "2017-01-01      ...             NaN         NaN          NaN          NaN   \n",
       "2017-01-02      ...             NaN         NaN          NaN          NaN   \n",
       "2017-01-03      ...       14.936665  194.899994  7177.899902  2257.830078   \n",
       "2017-01-04      ...       15.045474  205.059998  7189.700195  2270.750000   \n",
       "2017-01-05      ...       15.223528  205.720001  7195.299805  2269.000000   \n",
       "\n",
       "               Volume                                                         \n",
       "              BTC-USD        GLD MGGPX       SVXY        ^FTSE         ^GSPC  \n",
       "Date                                                                          \n",
       "2017-01-01   40570922        NaN   NaN        NaN          NaN           NaN  \n",
       "2017-01-02   66038073        NaN   NaN        NaN          NaN           NaN  \n",
       "2017-01-03   56085870  7527400.0   0.0  1820700.0  795658400.0  3.770530e+09  \n",
       "2017-01-04  170584623  4904100.0   0.0  1406700.0  742050400.0  3.764890e+09  \n",
       "2017-01-05  244839289  9606800.0   0.0  1034000.0  768721000.0  3.761820e+09  \n",
       "\n",
       "[5 rows x 36 columns]"
      ]
     },
     "execution_count": 4,
     "metadata": {},
     "output_type": "execute_result"
    }
   ],
   "source": [
    "df1.head()"
   ]
  },
  {
   "cell_type": "code",
   "execution_count": 5,
   "metadata": {},
   "outputs": [],
   "source": [
    "# Filters only for Adj Close\n",
    "df=df1[['Adj Close']]"
   ]
  },
  {
   "cell_type": "code",
   "execution_count": 6,
   "metadata": {
    "scrolled": false
   },
   "outputs": [
    {
     "data": {
      "text/html": [
       "<div>\n",
       "<style>\n",
       "    .dataframe thead tr:only-child th {\n",
       "        text-align: right;\n",
       "    }\n",
       "\n",
       "    .dataframe thead th {\n",
       "        text-align: left;\n",
       "    }\n",
       "\n",
       "    .dataframe tbody tr th {\n",
       "        vertical-align: top;\n",
       "    }\n",
       "</style>\n",
       "<table border=\"1\" class=\"dataframe\">\n",
       "  <thead>\n",
       "    <tr>\n",
       "      <th></th>\n",
       "      <th colspan=\"6\" halign=\"left\">Adj Close</th>\n",
       "    </tr>\n",
       "    <tr>\n",
       "      <th></th>\n",
       "      <th>BTC-USD</th>\n",
       "      <th>GLD</th>\n",
       "      <th>MGGPX</th>\n",
       "      <th>SVXY</th>\n",
       "      <th>^FTSE</th>\n",
       "      <th>^GSPC</th>\n",
       "    </tr>\n",
       "    <tr>\n",
       "      <th>Date</th>\n",
       "      <th></th>\n",
       "      <th></th>\n",
       "      <th></th>\n",
       "      <th></th>\n",
       "      <th></th>\n",
       "      <th></th>\n",
       "    </tr>\n",
       "  </thead>\n",
       "  <tbody>\n",
       "    <tr>\n",
       "      <th>2017-01-01</th>\n",
       "      <td>995.440002</td>\n",
       "      <td>NaN</td>\n",
       "      <td>NaN</td>\n",
       "      <td>NaN</td>\n",
       "      <td>NaN</td>\n",
       "      <td>NaN</td>\n",
       "    </tr>\n",
       "    <tr>\n",
       "      <th>2017-01-02</th>\n",
       "      <td>1017.049988</td>\n",
       "      <td>NaN</td>\n",
       "      <td>NaN</td>\n",
       "      <td>NaN</td>\n",
       "      <td>NaN</td>\n",
       "      <td>NaN</td>\n",
       "    </tr>\n",
       "    <tr>\n",
       "      <th>2017-01-03</th>\n",
       "      <td>1033.300049</td>\n",
       "      <td>110.470001</td>\n",
       "      <td>14.936665</td>\n",
       "      <td>194.899994</td>\n",
       "      <td>7177.899902</td>\n",
       "      <td>2257.830078</td>\n",
       "    </tr>\n",
       "    <tr>\n",
       "      <th>2017-01-04</th>\n",
       "      <td>1135.410034</td>\n",
       "      <td>110.860001</td>\n",
       "      <td>15.045474</td>\n",
       "      <td>205.059998</td>\n",
       "      <td>7189.700195</td>\n",
       "      <td>2270.750000</td>\n",
       "    </tr>\n",
       "    <tr>\n",
       "      <th>2017-01-05</th>\n",
       "      <td>989.349976</td>\n",
       "      <td>112.580002</td>\n",
       "      <td>15.223528</td>\n",
       "      <td>205.720001</td>\n",
       "      <td>7195.299805</td>\n",
       "      <td>2269.000000</td>\n",
       "    </tr>\n",
       "  </tbody>\n",
       "</table>\n",
       "</div>"
      ],
      "text/plain": [
       "              Adj Close                                                  \\\n",
       "                BTC-USD         GLD      MGGPX        SVXY        ^FTSE   \n",
       "Date                                                                      \n",
       "2017-01-01   995.440002         NaN        NaN         NaN          NaN   \n",
       "2017-01-02  1017.049988         NaN        NaN         NaN          NaN   \n",
       "2017-01-03  1033.300049  110.470001  14.936665  194.899994  7177.899902   \n",
       "2017-01-04  1135.410034  110.860001  15.045474  205.059998  7189.700195   \n",
       "2017-01-05   989.349976  112.580002  15.223528  205.720001  7195.299805   \n",
       "\n",
       "                         \n",
       "                  ^GSPC  \n",
       "Date                     \n",
       "2017-01-01          NaN  \n",
       "2017-01-02          NaN  \n",
       "2017-01-03  2257.830078  \n",
       "2017-01-04  2270.750000  \n",
       "2017-01-05  2269.000000  "
      ]
     },
     "execution_count": 6,
     "metadata": {},
     "output_type": "execute_result"
    }
   ],
   "source": [
    "# Display the first five rows\n",
    "df.head()"
   ]
  },
  {
   "cell_type": "code",
   "execution_count": 7,
   "metadata": {
    "scrolled": true
   },
   "outputs": [
    {
     "data": {
      "text/html": [
       "<div>\n",
       "<style>\n",
       "    .dataframe thead tr:only-child th {\n",
       "        text-align: right;\n",
       "    }\n",
       "\n",
       "    .dataframe thead th {\n",
       "        text-align: left;\n",
       "    }\n",
       "\n",
       "    .dataframe tbody tr th {\n",
       "        vertical-align: top;\n",
       "    }\n",
       "</style>\n",
       "<table border=\"1\" class=\"dataframe\">\n",
       "  <thead>\n",
       "    <tr>\n",
       "      <th></th>\n",
       "      <th colspan=\"6\" halign=\"left\">Adj Close</th>\n",
       "    </tr>\n",
       "    <tr>\n",
       "      <th></th>\n",
       "      <th>BTC-USD</th>\n",
       "      <th>GLD</th>\n",
       "      <th>MGGPX</th>\n",
       "      <th>SVXY</th>\n",
       "      <th>^FTSE</th>\n",
       "      <th>^GSPC</th>\n",
       "    </tr>\n",
       "    <tr>\n",
       "      <th>Date</th>\n",
       "      <th></th>\n",
       "      <th></th>\n",
       "      <th></th>\n",
       "      <th></th>\n",
       "      <th></th>\n",
       "      <th></th>\n",
       "    </tr>\n",
       "  </thead>\n",
       "  <tbody>\n",
       "    <tr>\n",
       "      <th>2017-12-27</th>\n",
       "      <td>15416.639648</td>\n",
       "      <td>122.230003</td>\n",
       "      <td>22.088345</td>\n",
       "      <td>513.559998</td>\n",
       "      <td>7620.700195</td>\n",
       "      <td>2682.620117</td>\n",
       "    </tr>\n",
       "    <tr>\n",
       "      <th>2017-12-28</th>\n",
       "      <td>14398.700195</td>\n",
       "      <td>122.849998</td>\n",
       "      <td>22.157866</td>\n",
       "      <td>521.919983</td>\n",
       "      <td>7622.899902</td>\n",
       "      <td>2687.540039</td>\n",
       "    </tr>\n",
       "    <tr>\n",
       "      <th>2017-12-29</th>\n",
       "      <td>14392.570313</td>\n",
       "      <td>123.650002</td>\n",
       "      <td>22.128073</td>\n",
       "      <td>512.840027</td>\n",
       "      <td>7687.799805</td>\n",
       "      <td>2673.610107</td>\n",
       "    </tr>\n",
       "    <tr>\n",
       "      <th>2017-12-30</th>\n",
       "      <td>12531.519531</td>\n",
       "      <td>NaN</td>\n",
       "      <td>NaN</td>\n",
       "      <td>NaN</td>\n",
       "      <td>NaN</td>\n",
       "      <td>NaN</td>\n",
       "    </tr>\n",
       "    <tr>\n",
       "      <th>2017-12-31</th>\n",
       "      <td>13850.400391</td>\n",
       "      <td>NaN</td>\n",
       "      <td>NaN</td>\n",
       "      <td>NaN</td>\n",
       "      <td>NaN</td>\n",
       "      <td>NaN</td>\n",
       "    </tr>\n",
       "  </tbody>\n",
       "</table>\n",
       "</div>"
      ],
      "text/plain": [
       "               Adj Close                                                  \\\n",
       "                 BTC-USD         GLD      MGGPX        SVXY        ^FTSE   \n",
       "Date                                                                       \n",
       "2017-12-27  15416.639648  122.230003  22.088345  513.559998  7620.700195   \n",
       "2017-12-28  14398.700195  122.849998  22.157866  521.919983  7622.899902   \n",
       "2017-12-29  14392.570313  123.650002  22.128073  512.840027  7687.799805   \n",
       "2017-12-30  12531.519531         NaN        NaN         NaN          NaN   \n",
       "2017-12-31  13850.400391         NaN        NaN         NaN          NaN   \n",
       "\n",
       "                         \n",
       "                  ^GSPC  \n",
       "Date                     \n",
       "2017-12-27  2682.620117  \n",
       "2017-12-28  2687.540039  \n",
       "2017-12-29  2673.610107  \n",
       "2017-12-30          NaN  \n",
       "2017-12-31          NaN  "
      ]
     },
     "execution_count": 7,
     "metadata": {},
     "output_type": "execute_result"
    }
   ],
   "source": [
    "# Display the last five rows\n",
    "df.tail()"
   ]
  },
  {
   "cell_type": "code",
   "execution_count": 8,
   "metadata": {
    "scrolled": true
   },
   "outputs": [
    {
     "data": {
      "text/plain": [
       "Adj Close  BTC-USD    364\n",
       "           GLD        251\n",
       "           MGGPX      251\n",
       "           SVXY       251\n",
       "           ^FTSE      252\n",
       "           ^GSPC      251\n",
       "dtype: int64"
      ]
     },
     "execution_count": 8,
     "metadata": {},
     "output_type": "execute_result"
    }
   ],
   "source": [
    "# Display the total count\n",
    "df.count()"
   ]
  },
  {
   "cell_type": "markdown",
   "metadata": {},
   "source": [
    "# 3. Daily Percent Change "
   ]
  },
  {
   "cell_type": "code",
   "execution_count": 9,
   "metadata": {},
   "outputs": [],
   "source": [
    "# calculate daily percentage change\n",
    "df_dpc=df.pct_change() *100 "
   ]
  },
  {
   "cell_type": "code",
   "execution_count": 10,
   "metadata": {},
   "outputs": [],
   "source": [
    "#drop nan values\n",
    "df_dpc=df_dpc.dropna()"
   ]
  },
  {
   "cell_type": "code",
   "execution_count": 11,
   "metadata": {},
   "outputs": [
    {
     "data": {
      "text/plain": [
       "False"
      ]
     },
     "execution_count": 11,
     "metadata": {},
     "output_type": "execute_result"
    }
   ],
   "source": [
    "#check for nan\n",
    "df_dpc.isnull().values.any()"
   ]
  },
  {
   "cell_type": "code",
   "execution_count": 13,
   "metadata": {},
   "outputs": [
    {
     "data": {
      "text/html": [
       "<div>\n",
       "<style>\n",
       "    .dataframe thead tr:only-child th {\n",
       "        text-align: right;\n",
       "    }\n",
       "\n",
       "    .dataframe thead th {\n",
       "        text-align: left;\n",
       "    }\n",
       "\n",
       "    .dataframe tbody tr th {\n",
       "        vertical-align: top;\n",
       "    }\n",
       "</style>\n",
       "<table border=\"1\" class=\"dataframe\">\n",
       "  <thead>\n",
       "    <tr>\n",
       "      <th></th>\n",
       "      <th colspan=\"6\" halign=\"left\">Adj Close</th>\n",
       "    </tr>\n",
       "    <tr>\n",
       "      <th></th>\n",
       "      <th>BTC-USD</th>\n",
       "      <th>GLD</th>\n",
       "      <th>MGGPX</th>\n",
       "      <th>SVXY</th>\n",
       "      <th>^FTSE</th>\n",
       "      <th>^GSPC</th>\n",
       "    </tr>\n",
       "    <tr>\n",
       "      <th>Date</th>\n",
       "      <th></th>\n",
       "      <th></th>\n",
       "      <th></th>\n",
       "      <th></th>\n",
       "      <th></th>\n",
       "      <th></th>\n",
       "    </tr>\n",
       "  </thead>\n",
       "  <tbody>\n",
       "    <tr>\n",
       "      <th>2017-01-04</th>\n",
       "      <td>9.881930</td>\n",
       "      <td>0.353037</td>\n",
       "      <td>0.728469</td>\n",
       "      <td>5.212932</td>\n",
       "      <td>0.164398</td>\n",
       "      <td>0.572227</td>\n",
       "    </tr>\n",
       "    <tr>\n",
       "      <th>2017-01-05</th>\n",
       "      <td>-12.864080</td>\n",
       "      <td>1.551507</td>\n",
       "      <td>1.183439</td>\n",
       "      <td>0.321858</td>\n",
       "      <td>0.077884</td>\n",
       "      <td>-0.077067</td>\n",
       "    </tr>\n",
       "    <tr>\n",
       "      <th>2017-01-06</th>\n",
       "      <td>-10.430081</td>\n",
       "      <td>-0.737255</td>\n",
       "      <td>0.844699</td>\n",
       "      <td>1.351351</td>\n",
       "      <td>0.205694</td>\n",
       "      <td>0.351696</td>\n",
       "    </tr>\n",
       "    <tr>\n",
       "      <th>2017-01-09</th>\n",
       "      <td>-0.119881</td>\n",
       "      <td>0.823264</td>\n",
       "      <td>0.064434</td>\n",
       "      <td>0.201438</td>\n",
       "      <td>0.384179</td>\n",
       "      <td>-0.354859</td>\n",
       "    </tr>\n",
       "    <tr>\n",
       "      <th>2017-01-10</th>\n",
       "      <td>0.510121</td>\n",
       "      <td>0.426026</td>\n",
       "      <td>0.064386</td>\n",
       "      <td>0.660542</td>\n",
       "      <td>0.520879</td>\n",
       "      <td>0.000000</td>\n",
       "    </tr>\n",
       "  </tbody>\n",
       "</table>\n",
       "</div>"
      ],
      "text/plain": [
       "            Adj Close                                                  \n",
       "              BTC-USD       GLD     MGGPX      SVXY     ^FTSE     ^GSPC\n",
       "Date                                                                   \n",
       "2017-01-04   9.881930  0.353037  0.728469  5.212932  0.164398  0.572227\n",
       "2017-01-05 -12.864080  1.551507  1.183439  0.321858  0.077884 -0.077067\n",
       "2017-01-06 -10.430081 -0.737255  0.844699  1.351351  0.205694  0.351696\n",
       "2017-01-09  -0.119881  0.823264  0.064434  0.201438  0.384179 -0.354859\n",
       "2017-01-10   0.510121  0.426026  0.064386  0.660542  0.520879  0.000000"
      ]
     },
     "execution_count": 13,
     "metadata": {},
     "output_type": "execute_result"
    }
   ],
   "source": [
    "#Display the first five rows\n",
    "df_dpc.head()"
   ]
  },
  {
   "cell_type": "code",
   "execution_count": 12,
   "metadata": {
    "scrolled": false
   },
   "outputs": [
    {
     "data": {
      "text/html": [
       "<div>\n",
       "<style>\n",
       "    .dataframe thead tr:only-child th {\n",
       "        text-align: right;\n",
       "    }\n",
       "\n",
       "    .dataframe thead th {\n",
       "        text-align: left;\n",
       "    }\n",
       "\n",
       "    .dataframe tbody tr th {\n",
       "        vertical-align: top;\n",
       "    }\n",
       "</style>\n",
       "<table border=\"1\" class=\"dataframe\">\n",
       "  <thead>\n",
       "    <tr>\n",
       "      <th></th>\n",
       "      <th colspan=\"6\" halign=\"left\">Adj Close</th>\n",
       "    </tr>\n",
       "    <tr>\n",
       "      <th></th>\n",
       "      <th>BTC-USD</th>\n",
       "      <th>GLD</th>\n",
       "      <th>MGGPX</th>\n",
       "      <th>SVXY</th>\n",
       "      <th>^FTSE</th>\n",
       "      <th>^GSPC</th>\n",
       "    </tr>\n",
       "    <tr>\n",
       "      <th>Date</th>\n",
       "      <th></th>\n",
       "      <th></th>\n",
       "      <th></th>\n",
       "      <th></th>\n",
       "      <th></th>\n",
       "      <th></th>\n",
       "    </tr>\n",
       "  </thead>\n",
       "  <tbody>\n",
       "    <tr>\n",
       "      <th>2017-12-21</th>\n",
       "      <td>-5.041016</td>\n",
       "      <td>0.141501</td>\n",
       "      <td>0.225937</td>\n",
       "      <td>0.689708</td>\n",
       "      <td>1.047146</td>\n",
       "      <td>0.198566</td>\n",
       "    </tr>\n",
       "    <tr>\n",
       "      <th>2017-12-22</th>\n",
       "      <td>-12.584028</td>\n",
       "      <td>0.523651</td>\n",
       "      <td>0.180342</td>\n",
       "      <td>-0.569530</td>\n",
       "      <td>-0.148603</td>\n",
       "      <td>-0.045817</td>\n",
       "    </tr>\n",
       "    <tr>\n",
       "      <th>2017-12-27</th>\n",
       "      <td>-2.157323</td>\n",
       "      <td>0.377766</td>\n",
       "      <td>0.225331</td>\n",
       "      <td>-0.542255</td>\n",
       "      <td>0.368775</td>\n",
       "      <td>0.079094</td>\n",
       "    </tr>\n",
       "    <tr>\n",
       "      <th>2017-12-28</th>\n",
       "      <td>-6.602862</td>\n",
       "      <td>0.507236</td>\n",
       "      <td>0.314741</td>\n",
       "      <td>1.627850</td>\n",
       "      <td>0.028865</td>\n",
       "      <td>0.183400</td>\n",
       "    </tr>\n",
       "    <tr>\n",
       "      <th>2017-12-29</th>\n",
       "      <td>-0.042572</td>\n",
       "      <td>0.651204</td>\n",
       "      <td>-0.134458</td>\n",
       "      <td>-1.739722</td>\n",
       "      <td>0.851381</td>\n",
       "      <td>-0.518315</td>\n",
       "    </tr>\n",
       "  </tbody>\n",
       "</table>\n",
       "</div>"
      ],
      "text/plain": [
       "            Adj Close                                                  \n",
       "              BTC-USD       GLD     MGGPX      SVXY     ^FTSE     ^GSPC\n",
       "Date                                                                   \n",
       "2017-12-21  -5.041016  0.141501  0.225937  0.689708  1.047146  0.198566\n",
       "2017-12-22 -12.584028  0.523651  0.180342 -0.569530 -0.148603 -0.045817\n",
       "2017-12-27  -2.157323  0.377766  0.225331 -0.542255  0.368775  0.079094\n",
       "2017-12-28  -6.602862  0.507236  0.314741  1.627850  0.028865  0.183400\n",
       "2017-12-29  -0.042572  0.651204 -0.134458 -1.739722  0.851381 -0.518315"
      ]
     },
     "execution_count": 12,
     "metadata": {},
     "output_type": "execute_result"
    }
   ],
   "source": [
    "#Display the last five rows\n",
    "df_dpc.tail()"
   ]
  },
  {
   "cell_type": "code",
   "execution_count": 14,
   "metadata": {
    "scrolled": true
   },
   "outputs": [
    {
     "data": {
      "text/plain": [
       "Adj Close  BTC-USD    246\n",
       "           GLD        246\n",
       "           MGGPX      246\n",
       "           SVXY       246\n",
       "           ^FTSE      246\n",
       "           ^GSPC      246\n",
       "dtype: int64"
      ]
     },
     "execution_count": 14,
     "metadata": {},
     "output_type": "execute_result"
    }
   ],
   "source": [
    "# Display the total count\n",
    "df_dpc.count()"
   ]
  },
  {
   "cell_type": "markdown",
   "metadata": {},
   "source": [
    "# 4. Plotting"
   ]
  },
  {
   "cell_type": "code",
   "execution_count": 15,
   "metadata": {},
   "outputs": [],
   "source": [
    "trace1=go.Ohlc(x=df1.index,\n",
    "              open=df1[('Open', 'BTC-USD')],\n",
    "              high=df1[('High', 'BTC-USD')],\n",
    "              low=df1[('Low', 'BTC-USD')],\n",
    "              close=df1[ ('Close', 'BTC-USD')])\n",
    "trace2=go.Ohlc(x=df1.index,\n",
    "              open=df1[('Open', 'GLD')],\n",
    "              high=df1[('High', 'GLD')],\n",
    "              low=df1[('Low', 'GLD')],\n",
    "              close=df1[('Close', 'GLD')])\n",
    "trace3=go.Ohlc(x=df1.index,\n",
    "              open=df1[('Open', 'SVXY')],\n",
    "              high=df1[('High', 'SVXY')],\n",
    "              low=df1[('Low', 'SVXY')],\n",
    "              close=df1[('Close', 'SVXY')])\n",
    "trace4=go.Ohlc(x=df1.index,\n",
    "              open=df1[('Open', '^FTSE')],\n",
    "              high=df1[('High', '^FTSE')],\n",
    "              low=df1[('Low', '^FTSE')],\n",
    "              close=df1[('Close', '^FTSE')])\n",
    "trace5=go.Ohlc(x=df1.index,\n",
    "              open=df1[('Open', 'MGGPX')],\n",
    "              high=df1[('High', 'MGGPX')],\n",
    "              low=df1[('Low', 'MGGPX')],\n",
    "              close=df1[('Close', 'MGGPX')])\n",
    "trace6=go.Ohlc(x=df1.index,\n",
    "              open=df1[('Open', '^GSPC')],\n",
    "              high=df1[('High', '^GSPC')],\n",
    "              low=df1[('Low', '^GSPC')],\n",
    "              close=df1[('Close', '^GSPC')])"
   ]
  },
  {
   "cell_type": "code",
   "execution_count": 16,
   "metadata": {},
   "outputs": [
    {
     "name": "stdout",
     "output_type": "stream",
     "text": [
      "This is the format of your plot grid:\n",
      "[ (1,1) x1,y1 ]  [ (1,2) x2,y2 ]\n",
      "[ (2,1) x3,y3 ]  [ (2,2) x4,y4 ]\n",
      "[ (3,1) x5,y5 ]  [ (3,2) x6,y6 ]\n",
      "\n"
     ]
    },
    {
     "data": {
      "text/html": [
       "<iframe id=\"igraph\" scrolling=\"no\" style=\"border:none;\" seamless=\"seamless\" src=\"https://plot.ly/~xian.c/2.embed\" height=\"800px\" width=\"1000px\"></iframe>"
      ],
      "text/plain": [
       "<plotly.tools.PlotlyDisplay object>"
      ]
     },
     "execution_count": 16,
     "metadata": {},
     "output_type": "execute_result"
    }
   ],
   "source": [
    "fig=tools.make_subplots(rows=3,cols=2,subplot_titles=('Bitcoin USD','GOLD',\n",
    "                                                      'ProShares Short VIX Short-Term Futures',\n",
    "                                                      'FTSE100 Index',\n",
    "                                                      'Morgan Stanley Inst Global Opp A',\n",
    "                                                      'S&P500 Index'))\n",
    "fig.append_trace(trace1, 1, 1)\n",
    "fig.append_trace(trace2, 1, 2)\n",
    "fig.append_trace(trace3, 2, 1)\n",
    "fig.append_trace(trace4, 2, 2)\n",
    "fig.append_trace(trace5, 3, 1)\n",
    "fig.append_trace(trace6, 3, 2)\n",
    "\n",
    "fig['layout'].update(height=800, width=1000, title='Candlestick Charts',\n",
    "                     xaxis = dict(rangeslider = dict(visible = False)),\n",
    "                     xaxis2 = dict(rangeslider = dict(visible = False)),\n",
    "                     xaxis3 = dict(rangeslider = dict(visible = False)),\n",
    "                     xaxis4 = dict(rangeslider = dict(visible = False)),\n",
    "                     xaxis5 = dict(rangeslider = dict(visible = False)),\n",
    "                     xaxis6 = dict(rangeslider = dict(visible = False)))\n",
    "\n",
    "py.iplot(fig, filename='CIS9650_project')"
   ]
  },
  {
   "cell_type": "markdown",
   "metadata": {},
   "source": [
    "# 5. Calculate and explain the statistical summary\n"
   ]
  },
  {
   "cell_type": "markdown",
   "metadata": {},
   "source": [
    "## - Which day was min? Which day was max?"
   ]
  },
  {
   "cell_type": "code",
   "execution_count": 17,
   "metadata": {},
   "outputs": [
    {
     "name": "stdout",
     "output_type": "stream",
     "text": [
      "BTC-USD\n",
      "2017-12-16 19345.490234\n",
      "2017-01-11 785.429993\n",
      "GLD\n",
      "2017-09-07 128.130005\n",
      "2017-01-03 110.470001\n",
      "SVXY\n",
      "2017-12-28 521.919983\n",
      "2017-01-03 194.899994\n",
      "^FTSE\n",
      "2017-12-29 7687.799805\n",
      "2017-01-31 7099.200195\n",
      "MGGPX\n",
      "2017-12-28 22.157866\n",
      "2017-01-03 14.936665\n",
      "^GSPC\n",
      "2017-12-18 2690.159912\n",
      "2017-01-03 2257.830078\n"
     ]
    }
   ],
   "source": [
    "# Dates with maximum and minimum values\n",
    "print('BTC-USD')\n",
    "print(str(df[('Adj Close', 'BTC-USD')].idxmax())[0:11]+\n",
    "      str(df[('Adj Close', 'BTC-USD')][df[('Adj Close', 'BTC-USD')].idxmax()]))\n",
    "print(str(df[('Adj Close', 'BTC-USD')].idxmin())[0:11]+\n",
    "      str(df[('Adj Close', 'BTC-USD')][df[('Adj Close', 'BTC-USD')].idxmin()]))\n",
    "\n",
    "print('GLD')\n",
    "print(str(df[('Adj Close', 'GLD')].idxmax())[0:11]+\n",
    "      str(df[('Adj Close', 'GLD')][df[('Adj Close', 'GLD')].idxmax()]))\n",
    "print(str(df[('Adj Close', 'GLD')].idxmin())[0:11]+\n",
    "      str(df[('Adj Close', 'GLD')][df[('Adj Close', 'GLD')].idxmin()]))\n",
    "\n",
    "print('SVXY')\n",
    "print(str(df[('Adj Close', 'SVXY')].idxmax())[0:11]+\n",
    "      str(df[('Adj Close', 'SVXY')][df[('Adj Close', 'SVXY')].idxmax()]))\n",
    "print(str(df[('Adj Close', 'SVXY')].idxmin())[0:11]+\n",
    "      str(df[('Adj Close', 'SVXY')][df[('Adj Close', 'SVXY')].idxmin()]))\n",
    "\n",
    "print('^FTSE')\n",
    "print(str(df[('Adj Close', '^FTSE')].idxmax())[0:11]+\n",
    "      str(df[('Adj Close', '^FTSE')][df[('Adj Close', '^FTSE')].idxmax()]))\n",
    "print(str(df[('Adj Close', '^FTSE')].idxmin())[0:11]+\n",
    "      str(df[('Adj Close', '^FTSE')][df[('Adj Close', '^FTSE')].idxmin()]))\n",
    "\n",
    "print('MGGPX')\n",
    "print(str(df[('Adj Close', 'MGGPX')].idxmax())[0:11]+\n",
    "      str(df[('Adj Close', 'MGGPX')][df[('Adj Close', 'MGGPX')].idxmax()]))\n",
    "print(str(df[('Adj Close', 'MGGPX')].idxmin())[0:11]+\n",
    "      str(df[('Adj Close', 'MGGPX')][df[('Adj Close', 'MGGPX')].idxmin()]))\n",
    "\n",
    "print('^GSPC')\n",
    "print(str(df[('Adj Close', '^GSPC')].idxmax())[0:11]+\n",
    "      str(df[('Adj Close', '^GSPC')][df[('Adj Close', '^GSPC')].idxmax()]))\n",
    "print(str(df[('Adj Close', '^GSPC')].idxmin())[0:11]+\n",
    "      str(df[('Adj Close', '^GSPC')][df[('Adj Close', '^GSPC')].idxmin()]))"
   ]
  },
  {
   "cell_type": "code",
   "execution_count": 32,
   "metadata": {},
   "outputs": [
    {
     "name": "stdout",
     "output_type": "stream",
     "text": [
      "BTC-USD\n",
      "2017-07-19 25.5605464896\n",
      "GLD\n",
      "2017-03-15 1.86645368385\n",
      "SVXY\n",
      "2017-08-14 12.7511153294\n",
      "^FTSE\n",
      "2017-04-24 2.10974749013\n",
      "MGGPX\n",
      "2017-10-27 1.69971720065\n",
      "^GSPC\n",
      "2017-03-01 1.36738545054\n"
     ]
    }
   ],
   "source": [
    "# Date with the largest percentage change\n",
    "print('BTC-USD')\n",
    "print(str(df_dpc[('Adj Close', 'BTC-USD')].idxmax())[0:11]+\n",
    "      str(df_dpc[('Adj Close', 'BTC-USD')][df_dpc[('Adj Close', 'BTC-USD')].idxmax()]))\n",
    "\n",
    "print('GLD')\n",
    "print(str(df_dpc[('Adj Close', 'GLD')].idxmax())[0:11]+\n",
    "      str(df_dpc[('Adj Close', 'GLD')][df_dpc[('Adj Close', 'GLD')].idxmax()]))\n",
    "\n",
    "print('SVXY')\n",
    "print(str(df_dpc[('Adj Close', 'SVXY')].idxmax())[0:11]+\n",
    "      str(df_dpc[('Adj Close', 'SVXY')][df_dpc[('Adj Close', 'SVXY')].idxmax()]))\n",
    "\n",
    "print('^FTSE')\n",
    "print(str(df_dpc[('Adj Close', '^FTSE')].idxmax())[0:11]+\n",
    "      str(df_dpc[('Adj Close', '^FTSE')][df_dpc[('Adj Close', '^FTSE')].idxmax()]))\n",
    "\n",
    "print('MGGPX')\n",
    "print(str(df_dpc[('Adj Close', 'MGGPX')].idxmax())[0:11]+\n",
    "      str(df_dpc[('Adj Close', 'MGGPX')][df_dpc[('Adj Close', 'MGGPX')].idxmax()]))\n",
    "\n",
    "print('^GSPC')\n",
    "print(str(df_dpc[('Adj Close', '^GSPC')].idxmax())[0:11]+\n",
    "      str(df_dpc[('Adj Close', '^GSPC')][df_dpc[('Adj Close', '^GSPC')].idxmax()]))\n"
   ]
  },
  {
   "cell_type": "markdown",
   "metadata": {},
   "source": [
    "## - Range, Standard deviation, etc…"
   ]
  },
  {
   "cell_type": "code",
   "execution_count": 18,
   "metadata": {
    "scrolled": true
   },
   "outputs": [
    {
     "data": {
      "text/html": [
       "<div>\n",
       "<style>\n",
       "    .dataframe thead tr:only-child th {\n",
       "        text-align: right;\n",
       "    }\n",
       "\n",
       "    .dataframe thead th {\n",
       "        text-align: left;\n",
       "    }\n",
       "\n",
       "    .dataframe tbody tr th {\n",
       "        vertical-align: top;\n",
       "    }\n",
       "</style>\n",
       "<table border=\"1\" class=\"dataframe\">\n",
       "  <thead>\n",
       "    <tr>\n",
       "      <th></th>\n",
       "      <th colspan=\"6\" halign=\"left\">Adj Close</th>\n",
       "    </tr>\n",
       "    <tr>\n",
       "      <th></th>\n",
       "      <th>BTC-USD</th>\n",
       "      <th>GLD</th>\n",
       "      <th>MGGPX</th>\n",
       "      <th>SVXY</th>\n",
       "      <th>^FTSE</th>\n",
       "      <th>^GSPC</th>\n",
       "    </tr>\n",
       "  </thead>\n",
       "  <tbody>\n",
       "    <tr>\n",
       "      <th>count</th>\n",
       "      <td>246.000000</td>\n",
       "      <td>246.000000</td>\n",
       "      <td>246.000000</td>\n",
       "      <td>246.000000</td>\n",
       "      <td>246.000000</td>\n",
       "      <td>246.000000</td>\n",
       "    </tr>\n",
       "    <tr>\n",
       "      <th>mean</th>\n",
       "      <td>0.745980</td>\n",
       "      <td>0.043440</td>\n",
       "      <td>0.157356</td>\n",
       "      <td>0.403055</td>\n",
       "      <td>0.032649</td>\n",
       "      <td>0.065649</td>\n",
       "    </tr>\n",
       "    <tr>\n",
       "      <th>std</th>\n",
       "      <td>5.234098</td>\n",
       "      <td>0.615688</td>\n",
       "      <td>0.556160</td>\n",
       "      <td>3.005873</td>\n",
       "      <td>0.543640</td>\n",
       "      <td>0.419255</td>\n",
       "    </tr>\n",
       "    <tr>\n",
       "      <th>min</th>\n",
       "      <td>-16.205761</td>\n",
       "      <td>-1.635317</td>\n",
       "      <td>-1.936044</td>\n",
       "      <td>-18.264092</td>\n",
       "      <td>-2.457832</td>\n",
       "      <td>-1.817821</td>\n",
       "    </tr>\n",
       "    <tr>\n",
       "      <th>25%</th>\n",
       "      <td>-1.309305</td>\n",
       "      <td>-0.393989</td>\n",
       "      <td>-0.132652</td>\n",
       "      <td>-0.592587</td>\n",
       "      <td>-0.266377</td>\n",
       "      <td>-0.130358</td>\n",
       "    </tr>\n",
       "    <tr>\n",
       "      <th>50%</th>\n",
       "      <td>0.871930</td>\n",
       "      <td>0.124270</td>\n",
       "      <td>0.142307</td>\n",
       "      <td>0.441691</td>\n",
       "      <td>0.027722</td>\n",
       "      <td>0.055622</td>\n",
       "    </tr>\n",
       "    <tr>\n",
       "      <th>75%</th>\n",
       "      <td>3.323538</td>\n",
       "      <td>0.418306</td>\n",
       "      <td>0.529289</td>\n",
       "      <td>1.853505</td>\n",
       "      <td>0.381236</td>\n",
       "      <td>0.241744</td>\n",
       "    </tr>\n",
       "    <tr>\n",
       "      <th>max</th>\n",
       "      <td>25.560546</td>\n",
       "      <td>1.866454</td>\n",
       "      <td>1.699717</td>\n",
       "      <td>12.751115</td>\n",
       "      <td>2.109747</td>\n",
       "      <td>1.367385</td>\n",
       "    </tr>\n",
       "  </tbody>\n",
       "</table>\n",
       "</div>"
      ],
      "text/plain": [
       "        Adj Close                                                            \n",
       "          BTC-USD         GLD       MGGPX        SVXY       ^FTSE       ^GSPC\n",
       "count  246.000000  246.000000  246.000000  246.000000  246.000000  246.000000\n",
       "mean     0.745980    0.043440    0.157356    0.403055    0.032649    0.065649\n",
       "std      5.234098    0.615688    0.556160    3.005873    0.543640    0.419255\n",
       "min    -16.205761   -1.635317   -1.936044  -18.264092   -2.457832   -1.817821\n",
       "25%     -1.309305   -0.393989   -0.132652   -0.592587   -0.266377   -0.130358\n",
       "50%      0.871930    0.124270    0.142307    0.441691    0.027722    0.055622\n",
       "75%      3.323538    0.418306    0.529289    1.853505    0.381236    0.241744\n",
       "max     25.560546    1.866454    1.699717   12.751115    2.109747    1.367385"
      ]
     },
     "execution_count": 18,
     "metadata": {},
     "output_type": "execute_result"
    }
   ],
   "source": [
    "df_dpc.describe()"
   ]
  },
  {
   "cell_type": "markdown",
   "metadata": {},
   "source": [
    "# 6. Regression Anaylsis\n",
    "- SP500 is independent variable and assets are dependent variables\n",
    "- Display each regression as a subplot in one figure\n",
    "- Calculate and explain the intercept, coefficient (slope), R2, and the Mean squared error.\n",
    "\n"
   ]
  },
  {
   "cell_type": "code",
   "execution_count": 19,
   "metadata": {},
   "outputs": [],
   "source": [
    "import statsmodels\n",
    "import statsmodels.formula.api as smf"
   ]
  },
  {
   "cell_type": "code",
   "execution_count": 20,
   "metadata": {},
   "outputs": [],
   "source": [
    "ds=pd.DataFrame()"
   ]
  },
  {
   "cell_type": "code",
   "execution_count": 21,
   "metadata": {},
   "outputs": [],
   "source": [
    "ds['btc']=df_dpc[('Adj Close', 'BTC-USD')]\n",
    "ds['gld']=df_dpc[('Adj Close', 'GLD')]\n",
    "ds['svxy']=df_dpc[('Adj Close', 'SVXY')]\n",
    "ds['ftse']=df_dpc[('Adj Close', '^FTSE')]\n",
    "ds['mggpx']=df_dpc[('Adj Close', 'MGGPX')]\n",
    "ds['sp500']=df_dpc[('Adj Close', '^GSPC')]"
   ]
  },
  {
   "cell_type": "markdown",
   "metadata": {},
   "source": [
    "### 1. BTC-USD"
   ]
  },
  {
   "cell_type": "code",
   "execution_count": 22,
   "metadata": {
    "scrolled": true
   },
   "outputs": [
    {
     "name": "stdout",
     "output_type": "stream",
     "text": [
      "                            OLS Regression Results                            \n",
      "==============================================================================\n",
      "Dep. Variable:                    btc   R-squared:                       0.000\n",
      "Model:                            OLS   Adj. R-squared:                 -0.004\n",
      "Method:                 Least Squares   F-statistic:                   0.07140\n",
      "Date:                Tue, 18 Dec 2018   Prob (F-statistic):              0.790\n",
      "Time:                        01:02:06   Log-Likelihood:                -755.70\n",
      "No. Observations:                 246   AIC:                             1515.\n",
      "Df Residuals:                     244   BIC:                             1522.\n",
      "Df Model:                           1                                         \n",
      "Covariance Type:            nonrobust                                         \n",
      "==============================================================================\n",
      "                 coef    std err          t      P>|t|      [0.025      0.975]\n",
      "------------------------------------------------------------------------------\n",
      "Intercept      0.7320      0.338      2.163      0.032       0.065       1.399\n",
      "sp500          0.2135      0.799      0.267      0.790      -1.360       1.788\n",
      "==============================================================================\n",
      "Omnibus:                       34.296   Durbin-Watson:                   1.975\n",
      "Prob(Omnibus):                  0.000   Jarque-Bera (JB):              129.050\n",
      "Skew:                           0.476   Prob(JB):                     9.49e-29\n",
      "Kurtosis:                       6.418   Cond. No.                         2.40\n",
      "==============================================================================\n",
      "\n",
      "Warnings:\n",
      "[1] Standard Errors assume that the covariance matrix of the errors is correctly specified.\n"
     ]
    }
   ],
   "source": [
    "model1=smf.ols(formula='btc~sp500',data=ds)\n",
    "r1=model1.fit()\n",
    "print(r1.summary())"
   ]
  },
  {
   "cell_type": "code",
   "execution_count": 23,
   "metadata": {
    "scrolled": true
   },
   "outputs": [
    {
     "name": "stdout",
     "output_type": "stream",
     "text": [
      "MSE: 27.5000080578\n"
     ]
    }
   ],
   "source": [
    "print('MSE:',r1.mse_resid)"
   ]
  },
  {
   "cell_type": "markdown",
   "metadata": {},
   "source": [
    "### 2. GLD"
   ]
  },
  {
   "cell_type": "code",
   "execution_count": 24,
   "metadata": {
    "scrolled": false
   },
   "outputs": [
    {
     "name": "stdout",
     "output_type": "stream",
     "text": [
      "                            OLS Regression Results                            \n",
      "==============================================================================\n",
      "Dep. Variable:                    gld   R-squared:                       0.065\n",
      "Model:                            OLS   Adj. R-squared:                  0.062\n",
      "Method:                 Least Squares   F-statistic:                     17.07\n",
      "Date:                Tue, 18 Dec 2018   Prob (F-statistic):           4.96e-05\n",
      "Time:                        01:02:13   Log-Likelihood:                -220.93\n",
      "No. Observations:                 246   AIC:                             445.9\n",
      "Df Residuals:                     244   BIC:                             452.9\n",
      "Df Model:                           1                                         \n",
      "Covariance Type:            nonrobust                                         \n",
      "==============================================================================\n",
      "                 coef    std err          t      P>|t|      [0.025      0.975]\n",
      "------------------------------------------------------------------------------\n",
      "Intercept      0.0681      0.038      1.769      0.078      -0.008       0.144\n",
      "sp500         -0.3755      0.091     -4.131      0.000      -0.555      -0.196\n",
      "==============================================================================\n",
      "Omnibus:                        0.721   Durbin-Watson:                   2.045\n",
      "Prob(Omnibus):                  0.697   Jarque-Bera (JB):                0.441\n",
      "Skew:                          -0.018   Prob(JB):                        0.802\n",
      "Kurtosis:                       3.204   Cond. No.                         2.40\n",
      "==============================================================================\n",
      "\n",
      "Warnings:\n",
      "[1] Standard Errors assume that the covariance matrix of the errors is correctly specified.\n"
     ]
    }
   ],
   "source": [
    "model2=smf.ols(formula='gld~sp500',data=ds)\n",
    "r2=model2.fit()\n",
    "print(r2.summary())"
   ]
  },
  {
   "cell_type": "code",
   "execution_count": 25,
   "metadata": {
    "scrolled": true
   },
   "outputs": [
    {
     "name": "stdout",
     "output_type": "stream",
     "text": [
      "MSE: 0.3557395234\n"
     ]
    }
   ],
   "source": [
    "print('MSE:',r2.mse_resid)"
   ]
  },
  {
   "cell_type": "markdown",
   "metadata": {},
   "source": [
    "### 3. SVXY"
   ]
  },
  {
   "cell_type": "code",
   "execution_count": 26,
   "metadata": {
    "scrolled": false
   },
   "outputs": [
    {
     "name": "stdout",
     "output_type": "stream",
     "text": [
      "                            OLS Regression Results                            \n",
      "==============================================================================\n",
      "Dep. Variable:                   svxy   R-squared:                       0.574\n",
      "Model:                            OLS   Adj. R-squared:                  0.572\n",
      "Method:                 Least Squares   F-statistic:                     328.6\n",
      "Date:                Tue, 18 Dec 2018   Prob (F-statistic):           4.25e-47\n",
      "Time:                        01:02:20   Log-Likelihood:                -514.37\n",
      "No. Observations:                 246   AIC:                             1033.\n",
      "Df Residuals:                     244   BIC:                             1040.\n",
      "Df Model:                           1                                         \n",
      "Covariance Type:            nonrobust                                         \n",
      "==============================================================================\n",
      "                 coef    std err          t      P>|t|      [0.025      0.975]\n",
      "------------------------------------------------------------------------------\n",
      "Intercept      0.0465      0.127      0.366      0.714      -0.203       0.296\n",
      "sp500          5.4314      0.300     18.128      0.000       4.841       6.022\n",
      "==============================================================================\n",
      "Omnibus:                       45.054   Durbin-Watson:                   1.929\n",
      "Prob(Omnibus):                  0.000   Jarque-Bera (JB):              125.698\n",
      "Skew:                          -0.792   Prob(JB):                     5.07e-28\n",
      "Kurtosis:                       6.124   Cond. No.                         2.40\n",
      "==============================================================================\n",
      "\n",
      "Warnings:\n",
      "[1] Standard Errors assume that the covariance matrix of the errors is correctly specified.\n"
     ]
    }
   ],
   "source": [
    "model3=smf.ols(formula='svxy~sp500',data=ds)\n",
    "r3=model3.fit()\n",
    "print(r3.summary())"
   ]
  },
  {
   "cell_type": "code",
   "execution_count": 27,
   "metadata": {},
   "outputs": [
    {
     "name": "stdout",
     "output_type": "stream",
     "text": [
      "MSE: 3.8657427036\n"
     ]
    }
   ],
   "source": [
    "print('MSE:',r3.mse_resid)"
   ]
  },
  {
   "cell_type": "markdown",
   "metadata": {},
   "source": [
    "### 4. ^FTSE"
   ]
  },
  {
   "cell_type": "code",
   "execution_count": 28,
   "metadata": {},
   "outputs": [
    {
     "name": "stdout",
     "output_type": "stream",
     "text": [
      "                            OLS Regression Results                            \n",
      "==============================================================================\n",
      "Dep. Variable:                   ftse   R-squared:                       0.211\n",
      "Model:                            OLS   Adj. R-squared:                  0.208\n",
      "Method:                 Least Squares   F-statistic:                     65.34\n",
      "Date:                Tue, 18 Dec 2018   Prob (F-statistic):           2.93e-14\n",
      "Time:                        01:02:33   Log-Likelihood:                -169.44\n",
      "No. Observations:                 246   AIC:                             342.9\n",
      "Df Residuals:                     244   BIC:                             349.9\n",
      "Df Model:                           1                                         \n",
      "Covariance Type:            nonrobust                                         \n",
      "==============================================================================\n",
      "                 coef    std err          t      P>|t|      [0.025      0.975]\n",
      "------------------------------------------------------------------------------\n",
      "Intercept     -0.0065      0.031     -0.207      0.836      -0.068       0.055\n",
      "sp500          0.5960      0.074      8.084      0.000       0.451       0.741\n",
      "==============================================================================\n",
      "Omnibus:                       25.480   Durbin-Watson:                   1.956\n",
      "Prob(Omnibus):                  0.000   Jarque-Bera (JB):               50.409\n",
      "Skew:                          -0.536   Prob(JB):                     1.13e-11\n",
      "Kurtosis:                       4.941   Cond. No.                         2.40\n",
      "==============================================================================\n",
      "\n",
      "Warnings:\n",
      "[1] Standard Errors assume that the covariance matrix of the errors is correctly specified.\n"
     ]
    }
   ],
   "source": [
    "model4=smf.ols(formula='ftse~sp500',data=ds)\n",
    "r4=model4.fit()\n",
    "print(r4.summary())"
   ]
  },
  {
   "cell_type": "code",
   "execution_count": 29,
   "metadata": {
    "scrolled": true
   },
   "outputs": [
    {
     "name": "stdout",
     "output_type": "stream",
     "text": [
      "MSE: 0.234070487512\n"
     ]
    }
   ],
   "source": [
    "print('MSE:',r4.mse_resid)"
   ]
  },
  {
   "cell_type": "markdown",
   "metadata": {},
   "source": [
    "### 5. MGGPX"
   ]
  },
  {
   "cell_type": "code",
   "execution_count": 30,
   "metadata": {
    "scrolled": false
   },
   "outputs": [
    {
     "name": "stdout",
     "output_type": "stream",
     "text": [
      "                            OLS Regression Results                            \n",
      "==============================================================================\n",
      "Dep. Variable:                  mggpx   R-squared:                       0.407\n",
      "Model:                            OLS   Adj. R-squared:                  0.405\n",
      "Method:                 Least Squares   F-statistic:                     167.6\n",
      "Date:                Tue, 18 Dec 2018   Prob (F-statistic):           1.57e-29\n",
      "Time:                        01:02:38   Log-Likelihood:                -139.91\n",
      "No. Observations:                 246   AIC:                             283.8\n",
      "Df Residuals:                     244   BIC:                             290.8\n",
      "Df Model:                           1                                         \n",
      "Covariance Type:            nonrobust                                         \n",
      "==============================================================================\n",
      "                 coef    std err          t      P>|t|      [0.025      0.975]\n",
      "------------------------------------------------------------------------------\n",
      "Intercept      0.1018      0.028      3.676      0.000       0.047       0.156\n",
      "sp500          0.8465      0.065     12.946      0.000       0.718       0.975\n",
      "==============================================================================\n",
      "Omnibus:                       35.368   Durbin-Watson:                   1.804\n",
      "Prob(Omnibus):                  0.000   Jarque-Bera (JB):               74.090\n",
      "Skew:                          -0.714   Prob(JB):                     8.16e-17\n",
      "Kurtosis:                       5.278   Cond. No.                         2.40\n",
      "==============================================================================\n",
      "\n",
      "Warnings:\n",
      "[1] Standard Errors assume that the covariance matrix of the errors is correctly specified.\n"
     ]
    }
   ],
   "source": [
    "model5=smf.ols(formula='mggpx~sp500',data=ds)\n",
    "r5=model5.fit()\n",
    "print(r5.summary())"
   ]
  },
  {
   "cell_type": "code",
   "execution_count": 31,
   "metadata": {
    "scrolled": true
   },
   "outputs": [
    {
     "name": "stdout",
     "output_type": "stream",
     "text": [
      "MSE: 0.184112241011\n"
     ]
    }
   ],
   "source": [
    "print('MSE:',r5.mse_resid)"
   ]
  },
  {
   "cell_type": "code",
   "execution_count": 32,
   "metadata": {
    "scrolled": false
   },
   "outputs": [
    {
     "data": {
      "image/png": "[encoded data removed]",
      "text/plain": [
       "<matplotlib.figure.Figure at 0x1a1ffecf60>"
      ]
     },
     "metadata": {},
     "output_type": "display_data"
    }
   ],
   "source": [
    "%matplotlib inline\n",
    "fig, ax = plt.subplots(3,2,figsize = (20,20))\n",
    "\n",
    "ax[0,0].scatter(df_dpc[('Adj Close', '^GSPC')],df_dpc[('Adj Close', 'BTC-USD')],color='green')\n",
    "ax[0,0].plot(ds['sp500'],r1.fittedvalues,color='red',linewidth=2)\n",
    "ax[0,0].set_xlabel('SP500 Adj Close')\n",
    "ax[0,0].set_ylabel('BTC-USD Adj Close')\n",
    "ax[0,0].set_title('BTC-USD vs SP500')\n",
    "\n",
    "ax[0,1].scatter(df_dpc[('Adj Close', '^GSPC')],df_dpc[('Adj Close', 'GLD')],color='green')\n",
    "ax[0,1].plot(ds['sp500'],r2.fittedvalues,color='red',linewidth=2)\n",
    "ax[0,1].set_ylabel('GLD Adj Close')\n",
    "ax[0,1].set_xlabel('SP500 Adj Close')\n",
    "ax[0,1].set_title('GLD vs SP500')\n",
    "\n",
    "ax[1,0].scatter(df_dpc[('Adj Close', '^GSPC')],df_dpc[('Adj Close', 'SVXY')],color='green')\n",
    "ax[1,0].plot(ds['sp500'],r3.fittedvalues,color='red',linewidth=2)\n",
    "ax[1,0].set_ylabel('SVXY Adj Close')\n",
    "ax[1,0].set_xlabel('SP500 Adj Close')\n",
    "ax[1,0].set_title('SVXY vs SP500')\n",
    "\n",
    "ax[1,1].scatter(df_dpc[('Adj Close', '^GSPC')],df_dpc[('Adj Close', '^FTSE')],color='green')\n",
    "ax[1,1].plot(ds['sp500'],r4.fittedvalues,color='red',linewidth=2)\n",
    "ax[1,1].set_ylabel('FTSE100 Adj Close')\n",
    "ax[1,1].set_xlabel('SP500 Adj Close')\n",
    "ax[1,1].set_title('FTSE100 vs SP500')\n",
    "\n",
    "ax[2,0].scatter(df_dpc[('Adj Close', '^GSPC')],df_dpc[('Adj Close', 'MGGPX')],color='green')\n",
    "ax[2,0].plot(ds['sp500'],r5.fittedvalues,color='red',linewidth=2)\n",
    "ax[2,0].set_ylabel('MGGPX Adj Close')\n",
    "ax[2,0].set_xlabel('SP500 Adj Close')\n",
    "ax[2,0].set_title('MGGPX vs SP500')\n",
    "\n",
    "ax[2,1].remove()"
   ]
  }
 ],
 "metadata": {
  "kernelspec": {
   "display_name": "Python 3",
   "language": "python",
   "name": "python3"
  },
  "language_info": {
   "codemirror_mode": {
    "name": "ipython",
    "version": 3
   },
   "file_extension": ".py",
   "mimetype": "text/x-python",
   "name": "python",
   "nbconvert_exporter": "python",
   "pygments_lexer": "ipython3",
   "version": "3.5.1"
  }
 },
 "nbformat": 4,
 "nbformat_minor": 2
}
